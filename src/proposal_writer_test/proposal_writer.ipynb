{
 "cells": [
  {
   "cell_type": "code",
   "execution_count": null,
   "id": "9a37c033",
   "metadata": {},
   "outputs": [],
   "source": [
    "from docxtpl import DocxTemplate\n",
    "from pathlib import Path\n",
    "\n",
    "docx_path = Path(\"사업계획서_양식.docx\")\n",
    "\n",
    "doc = DocxTemplate(docx_path)\n",
    "context = {\n",
    "    \"item_name\": \"AI기술이 적용된 맞춤 추천 기능의 전자상거래 서비스\",\n",
    "    \"deliverables\": \"모바일 어플리케이션(1개), 웹사이트(1개)\",\n",
    "    \"job\": \"연구원\",\n",
    "    \"company_name\": \"예정기업명\",\n",
    "\n",
    "    \"members\": [\n",
    "        {\"position\": \"팀장\", \"task\": \"총괄 관리\", \"capability\": \"10년 경력\", \"status\": \"상근\"},\n",
    "        {\"position\": \"개발자\", \"task\": \"앱 개발\", \"capability\": \"석사 학위, 5년 경력\", \"status\": \"상근\"},\n",
    "        {\"position\": \"디자이너\", \"task\": \"UI/UX 설계\", \"capability\": \"학사 학위, 3년 경력\", \"status\": \"비상근\"},\n",
    "    ],\n",
    "\n",
    "    \"name\": \"스마트 헬스케어 플랫폼\",\n",
    "    \"category\": \"모바일 헬스케어\",\n",
    "    \"overview\": \"AI 기반 건강 관리 앱\",\n",
    "    \"problem\": \"만성질환 관리의 어려움\",\n",
    "    \"solution\": \"사용자 맞춤 건강 모니터링 서비스\",\n",
    "    \"scaleup\": \"글로벌 진출 및 데이터 기반 헬스케어 고도화\",\n",
    "    \"team\": \"개발자 3명, 연구원 2명, 디자이너 1명\",\n",
    "\n",
    "    \"images\": [\n",
    "        # {\n",
    "        #     \"title\": \"앱 메인 화면\",\n",
    "        #     \"filepath\": InlineImage(doc, \"main_screen.png\", width=Mm(60))\n",
    "        # },\n",
    "        # {\n",
    "        #     \"title\": \"서비스 아키텍처 설계도\",\n",
    "        #     \"filepath\": InlineImage(doc, \"architecture.png\", width=Mm(80))\n",
    "        # }\n",
    "    ],\n",
    "\n",
    "    \"problem_points\": [\n",
    "        {\"main\": \"고령화로 인한 만성질환 관리 필요성 증가\", \"sub\": \"효율적인 건강 관리 솔루션 필요\"},\n",
    "        {\"main\": \"기존 서비스의 사용자 맞춤 부족\", \"sub\": \"개인화된 데이터 분석의 필요성\"},\n",
    "        {\"main\": \"비대면 의료 수요 확대\", \"sub\": \"스마트 기기 연동 서비스 수요 증가\"},\n",
    "    ],\n",
    "\n",
    "    \"solution_points\": [\n",
    "        {\"main\": \"제품의 차별화 필요\", \"sub\": \"기존 서비스와의 경쟁력 확보\"},\n",
    "        {\"main\": \"기술적 실현 가능성 검토\", \"sub\": \"개발 환경 및 리소스 확보\"},\n",
    "    ],\n",
    "\n",
    "    \"schedules\": [\n",
    "        {\"task\": \"핵심 인력 확보\", \"period\": \"협약기간 내\", \"detail\": \"개발 인력 00명 채용\"},\n",
    "        {\"task\": \"앱 서비스 디자인\", \"period\": \"00.00~00.00\", \"detail\": \"모바일 앱 UX/UI 디자인 완료\"},\n",
    "        {\"task\": \"홍보용 웹사이트 제작\", \"period\": \"00.00~00.00\", \"detail\": \"웹사이트 제작 및 운영\"},\n",
    "        {\"task\": \"시제품 완성\", \"period\": \"협약기간 말\", \"detail\": \"최종 시제품 제작 완료\"},\n",
    "    ],\n",
    "\n",
    "    \"budgets\": [\n",
    "        {\n",
    "            \"category\": \"재료비\",\n",
    "            \"plan\": \"DMD 소재 구입(00개×0000원)\",\n",
    "            \"gov_support\": 3448000,\n",
    "            \"self_funding\": 0,\n",
    "            \"total\": 3448000\n",
    "        },\n",
    "        {\n",
    "            \"category\": \"재료비\",\n",
    "            \"plan\": \"컴퓨터 구입(00개×0000원)\",\n",
    "            \"gov_support\": 7652000,\n",
    "            \"self_funding\": 0,\n",
    "            \"total\": 7652000\n",
    "        },\n",
    "    ],\n",
    "\n",
    "    \"total_budget\": 11100000,\n",
    "\n",
    "    \"strategies\": [\n",
    "        {\"main\": \"경쟁제품·경쟁사 분석\", \"sub\": \"시장 점유율 및 경쟁 우위 확보 전략\"},\n",
    "        {\"main\": \"사업 확장을 위한 투자유치\", \"sub\": \"시리즈 A 투자 준비\"},\n",
    "        {\"main\": \"지속 가능한 성장 기반 마련\", \"sub\": \"에너지 절감 및 친환경 소재 활용\"},\n",
    "    ],\n",
    "\n",
    "    \"scaleup_schedules\": [\n",
    "        {\"task\": \"시제품 설계\", \"period\": \"00년 상반기\", \"detail\": \"시제품 설계 및 프로토타입 제작\"},\n",
    "        {\"task\": \"시제품 제작\", \"period\": \"00.00 ~ 00.00\", \"detail\": \"외주 용역을 통한 시제품 제작\"},\n",
    "        {\"task\": \"정식 출시\", \"period\": \"00년 하반기\", \"detail\": \"신제품 출시\"},\n",
    "        {\"task\": \"신제품 홍보 프로모션 진행\", \"period\": \"00.00 ~ 00.00\", \"detail\": \"OO, OO 프로모션 진행\"},\n",
    "    ],\n",
    "\n",
    "    \"team_points\": [\n",
    "        {\"main\": \"대표자 보유 역량\", \"sub\": \"경력·학력·기술 보유 및 인적 네트워크 활용\"},\n",
    "        {\"main\": \"역량\", \"sub\": \"창업 아이템을 개발 또는 구체화할 수 있는 능력\"},\n",
    "        {\"main\": \"인력 계획\", \"sub\": \"협약기간 내 채용 예정 인력 및 역할\"},\n",
    "    ],\n",
    "\n",
    "    \"members2\": [\n",
    "        {\n",
    "            \"position\": \"공동대표\",\n",
    "            \"task\": \"S/W 개발 총괄\",\n",
    "            \"capability\": \"OO학 박사, OO학과 교수 재직(00년)\",\n",
    "            \"status\": \"완료(00.00)\"\n",
    "        },\n",
    "        {\n",
    "            \"position\": \"대리\",\n",
    "            \"task\": \"홍보 및 마케팅\",\n",
    "            \"capability\": \"OO학 학사, OO 관련 경력(00년 이상)\",\n",
    "            \"status\": \"예정(00.00)\"\n",
    "        },\n",
    "    ],\n",
    "\n",
    "    \"partners\": [\n",
    "        {\n",
    "            \"name\": \"OO전자\",\n",
    "            \"capability\": \"시제품 관련 H/W 제작·개발\",\n",
    "            \"plan\": \"테스트 장비 지원\",\n",
    "            \"period\": \"00.00\"\n",
    "        },\n",
    "        {\n",
    "            \"name\": \"OO기업\",\n",
    "            \"capability\": \"S/W 제작·개발\",\n",
    "            \"plan\": \"웹사이트 제작 용역\",\n",
    "            \"period\": \"00.00\"\n",
    "        },\n",
    "    ]\n",
    "}\n",
    "doc.render(context)\n",
    "\n",
    "modified_docx_path = docx_path.with_stem(\"사업계획서\")\n",
    "\n",
    "doc.save(modified_docx_path)"
   ]
  },
  {
   "cell_type": "code",
   "execution_count": 2,
   "id": "2d4444b5",
   "metadata": {},
   "outputs": [],
   "source": [
    "import getpass\n",
    "import os\n",
    "\n",
    "if not os.environ.get(\"OPENAI_API_KEY\"):\n",
    "  os.environ[\"OPENAI_API_KEY\"] = getpass.getpass(\"Enter API key for OpenAI: \")\n",
    "\n",
    "from langchain.chat_models import init_chat_model\n",
    "\n",
    "model = init_chat_model(\"gpt-4o-mini\", model_provider=\"openai\")"
   ]
  },
  {
   "cell_type": "code",
   "execution_count": 3,
   "id": "bff38de0",
   "metadata": {},
   "outputs": [
    {
     "data": {
      "text/plain": [
       "AIMessage(content='Hello! How can I assist you today?', additional_kwargs={'refusal': None}, response_metadata={'token_usage': {'completion_tokens': 9, 'prompt_tokens': 11, 'total_tokens': 20, 'completion_tokens_details': {'accepted_prediction_tokens': 0, 'audio_tokens': 0, 'reasoning_tokens': 0, 'rejected_prediction_tokens': 0}, 'prompt_tokens_details': {'audio_tokens': 0, 'cached_tokens': 0}}, 'model_name': 'gpt-4o-mini-2024-07-18', 'system_fingerprint': 'fp_560af6e559', 'id': 'chatcmpl-C8yX8FaPhm7aA0CbioQnAP1elzzd0', 'service_tier': 'default', 'finish_reason': 'stop', 'logprobs': None}, id='run--f75ec49e-9c84-4f80-a8cf-0131bfc31453-0', usage_metadata={'input_tokens': 11, 'output_tokens': 9, 'total_tokens': 20, 'input_token_details': {'audio': 0, 'cache_read': 0}, 'output_token_details': {'audio': 0, 'reasoning': 0}})"
      ]
     },
     "execution_count": 3,
     "metadata": {},
     "output_type": "execute_result"
    }
   ],
   "source": [
    "model.invoke(\"Hello, world!\")"
   ]
  },
  {
   "cell_type": "code",
   "execution_count": 8,
   "id": "ac595c96",
   "metadata": {},
   "outputs": [
    {
     "data": {
      "text/plain": [
       "{'item_name': '',\n",
       " 'deliverables': '',\n",
       " 'job': '',\n",
       " 'company_name': '',\n",
       " 'general_members': [{'position': '',\n",
       "   'task': '',\n",
       "   'capability': '',\n",
       "   'status': ''}],\n",
       " 'name': '',\n",
       " 'category': '',\n",
       " 'overview': '',\n",
       " 'problem': '',\n",
       " 'solution': '',\n",
       " 'scaleup': '',\n",
       " 'team': '',\n",
       " 'images': [{'title': '', 'filepath': ''}],\n",
       " 'problem_points': [{'main': '', 'sub': ''}],\n",
       " 'solution_points': [{'main': '', 'sub': ''}],\n",
       " 'schedules': [{'task': '', 'period': '', 'detail': ''}],\n",
       " 'budgets': [{'category': '',\n",
       "   'plan': '',\n",
       "   'gov_support': '',\n",
       "   'self_funding': '',\n",
       "   'total': ''}],\n",
       " 'total_budget': '',\n",
       " 'strategies': [{'main': '', 'sub': ''}],\n",
       " 'scaleup_schedules': [{'task': '', 'period': '', 'detail': ''}],\n",
       " 'team_points': [{'main': '', 'sub': ''}],\n",
       " 'plan_members': [{'position': '',\n",
       "   'task': '',\n",
       "   'capability': '',\n",
       "   'status': ''}],\n",
       " 'partners': [{'name': '', 'capability': '', 'plan': '', 'period': ''}]}"
      ]
     },
     "execution_count": 8,
     "metadata": {},
     "output_type": "execute_result"
    }
   ],
   "source": [
    "import json\n",
    "from pathlib import Path\n",
    "\n",
    "# 스키마 파일 경로 지정 (현재 스크립트와 같은 폴더에 있다고 가정)\n",
    "# schema_path = Path(__file__).parent / \"business_plan_schema.json\"\n",
    "schema_path = Path(\"business_plan_schema.json\")\n",
    "\n",
    "# JSON 스키마 로드\n",
    "with schema_path.open(encoding=\"utf-8\") as f:\n",
    "    schema = json.load(f)\n",
    "\n",
    "# 확인용 출력\n",
    "# print(type(schema))  # dict\n",
    "# print(schema.keys())  # 스키마의 최상위 키들\n",
    "\n",
    "schema"
   ]
  },
  {
   "cell_type": "code",
   "execution_count": 6,
   "id": "61f96243",
   "metadata": {},
   "outputs": [
    {
     "ename": "NameError",
     "evalue": "name '__file__' is not defined",
     "output_type": "error",
     "traceback": [
      "\u001b[31m---------------------------------------------------------------------------\u001b[39m",
      "\u001b[31mNameError\u001b[39m                                 Traceback (most recent call last)",
      "\u001b[36mCell\u001b[39m\u001b[36m \u001b[39m\u001b[32mIn[6]\u001b[39m\u001b[32m, line 4\u001b[39m\n\u001b[32m      1\u001b[39m \u001b[38;5;28;01mimport\u001b[39;00m\u001b[38;5;250m \u001b[39m\u001b[34;01mjson\u001b[39;00m\n\u001b[32m      2\u001b[39m \u001b[38;5;28;01mfrom\u001b[39;00m\u001b[38;5;250m \u001b[39m\u001b[34;01mpathlib\u001b[39;00m\u001b[38;5;250m \u001b[39m\u001b[38;5;28;01mimport\u001b[39;00m Path\n\u001b[32m----> \u001b[39m\u001b[32m4\u001b[39m Path(\u001b[34;43m__file__\u001b[39;49m).parent\n",
      "\u001b[31mNameError\u001b[39m: name '__file__' is not defined"
     ]
    }
   ],
   "source": [
    "import json\n",
    "from pathlib import Path\n",
    "\n",
    "Path(__file__).parent"
   ]
  },
  {
   "cell_type": "code",
   "execution_count": 15,
   "id": "26fefe83",
   "metadata": {},
   "outputs": [],
   "source": [
    "from langchain_openai import ChatOpenAI\n",
    "\n",
    "llm = ChatOpenAI(\n",
    "    model=\"gpt-5-nano\"\n",
    ")"
   ]
  },
  {
   "cell_type": "code",
   "execution_count": null,
   "id": "ac8bc416",
   "metadata": {},
   "outputs": [],
   "source": [
    "from langchain_core.prompts import ChatPromptTemplate, MessagesPlaceholder\n",
    "\n",
    "prompt = ChatPromptTemplate([\n",
    "    # (\"system\", \"You are a helpful assistant\"),\n",
    "    MessagesPlaceholder(variable_name=\"chat_history\"),\n",
    "    (\"user\", \"{user_input}\")\n",
    "])"
   ]
  },
  {
   "cell_type": "code",
   "execution_count": 19,
   "id": "4a7706fb",
   "metadata": {},
   "outputs": [
    {
     "name": "stderr",
     "output_type": "stream",
     "text": [
      "/var/folders/fg/3bv59j697x9244v9qlm146_40000gn/T/ipykernel_7879/2202226372.py:3: LangChainDeprecationWarning: Please see the migration guide at: https://python.langchain.com/docs/versions/migrating_memory/\n",
      "  memory = ConversationBufferMemory(return_messages=True, memory_key=\"chat_history\")\n"
     ]
    }
   ],
   "source": [
    "from langchain.memory import ConversationBufferMemory\n",
    "\n",
    "memory = ConversationBufferMemory(return_messages=True, memory_key=\"chat_history\")"
   ]
  },
  {
   "cell_type": "code",
   "execution_count": 20,
   "id": "5d66d880",
   "metadata": {},
   "outputs": [
    {
     "data": {
      "text/plain": [
       "{'chat_history': []}"
      ]
     },
     "execution_count": 20,
     "metadata": {},
     "output_type": "execute_result"
    }
   ],
   "source": [
    "memory.load_memory_variables({})  # 메모리 변수를 빈 딕셔너리로 초기화합니다.\n"
   ]
  },
  {
   "cell_type": "code",
   "execution_count": 21,
   "id": "79ebfb2c",
   "metadata": {},
   "outputs": [],
   "source": [
    "from operator import itemgetter\n",
    "from langchain.memory import ConversationBufferMemory\n",
    "from langchain_core.prompts import ChatPromptTemplate, MessagesPlaceholder\n",
    "from langchain_core.runnables import RunnableLambda, RunnablePassthrough\n",
    "from langchain_openai import ChatOpenAI\n",
    "\n",
    "runnable = RunnablePassthrough.assign(\n",
    "    chat_history=RunnableLambda(memory.load_memory_variables)\n",
    "    | itemgetter(\"chat_history\")  # memory_key 와 동일하게 입력합니다.\n",
    ")"
   ]
  },
  {
   "cell_type": "code",
   "execution_count": 23,
   "id": "a6a1820a",
   "metadata": {},
   "outputs": [
    {
     "data": {
      "text/plain": [
       "{'input': 'hi', 'chat_history': []}"
      ]
     },
     "execution_count": 23,
     "metadata": {},
     "output_type": "execute_result"
    }
   ],
   "source": [
    "runnable.invoke({\"input\": \"hi\"})"
   ]
  },
  {
   "cell_type": "code",
   "execution_count": null,
   "id": "8d5af9bd",
   "metadata": {},
   "outputs": [
    {
     "data": {
      "text/plain": [
       "AIMessage(content='대충 간단히 말하면, 하늘이 파랗게 보이는 이유는 햇빛이 대기를 지나가다가 산란되기 때문이에요.\\n\\n- 햇빛은 여러 색이 섞인 백색광인데, 대기의 분자에 부딪히면 산란됩니다.\\n- 이 중 파랑과 보라 같은 짧은 파장이 다른 색보다 더 많이 흩어져요(레이히 산란).\\n- 이 흩어진 파란 빛이 모든 방향으로 눈에 들어오므로 하늘이 파랗게 보입니다. 우리가 보라보다는 파란 빛을 더 많이 보게 되는 것도, 지구 대기가 보라색은 인간 눈이 덜 민감하고 태양에 보라가 상대적으로 많이 없어서 그렇습니다.\\n\\n덧붙임:\\n- 일출·일몰 때 하얀 빛이 붉게 보이는 이유는 빛이 더 긴 경로를 지나며 파란 빛이 거의 산란되어 사라지고, 남은 빨간색 계열이 주로 남기 때문입니다.\\n- 대기 속 먼지나 오염이 많으면 색이 달라 보일 수 있어요(하늘이 더 흐리거나 주황빛이 도는 경우).\\n\\n혹시 더 자세한 물리적 원리나 간단한 실험 아이디어가 필요하면 알려주세요!', additional_kwargs={'refusal': None}, response_metadata={'token_usage': {'completion_tokens': 1200, 'prompt_tokens': 16, 'total_tokens': 1216, 'completion_tokens_details': {'accepted_prediction_tokens': 0, 'audio_tokens': 0, 'reasoning_tokens': 896, 'rejected_prediction_tokens': 0}, 'prompt_tokens_details': {'audio_tokens': 0, 'cached_tokens': 0}}, 'model_name': 'gpt-5-nano-2025-08-07', 'system_fingerprint': None, 'id': 'chatcmpl-C91gyM2ENze59jADnScsuj63FdmP7', 'service_tier': 'default', 'finish_reason': 'stop', 'logprobs': None}, id='run--8fee2654-49d7-4ffb-bb85-dfebc19f416e-0', usage_metadata={'input_tokens': 16, 'output_tokens': 1200, 'total_tokens': 1216, 'input_token_details': {'audio': 0, 'cache_read': 0}, 'output_token_details': {'audio': 0, 'reasoning': 896}})"
      ]
     },
     "execution_count": 17,
     "metadata": {},
     "output_type": "execute_result"
    }
   ],
   "source": [
    "chain = prompt | llm\n",
    "\n",
    "chain.invoke(\n",
    "    {\n",
    "        \"user_input\": \"하늘은 왜 푸른색이지?\",\n",
    "    }\n",
    ")"
   ]
  },
  {
   "cell_type": "code",
   "execution_count": null,
   "id": "c84e6c10",
   "metadata": {},
   "outputs": [],
   "source": []
  }
 ],
 "metadata": {
  "kernelspec": {
   "display_name": "kt_ai_agent_document_llm (3.12.11)",
   "language": "python",
   "name": "python3"
  },
  "language_info": {
   "codemirror_mode": {
    "name": "ipython",
    "version": 3
   },
   "file_extension": ".py",
   "mimetype": "text/x-python",
   "name": "python",
   "nbconvert_exporter": "python",
   "pygments_lexer": "ipython3",
   "version": "3.12.11"
  }
 },
 "nbformat": 4,
 "nbformat_minor": 5
}
