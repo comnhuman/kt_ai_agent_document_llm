{
 "cells": [
  {
   "cell_type": "code",
   "execution_count": 1,
   "id": "514b252f",
   "metadata": {},
   "outputs": [],
   "source": [
    "import json\n",
    "from pathlib import Path\n",
    "\n",
    "schema_path = Path(\"business_plan_schema.json\")\n",
    "with schema_path.open(encoding=\"utf-8\") as f:\n",
    "    schema = json.load(f)"
   ]
  },
  {
   "cell_type": "code",
   "execution_count": 2,
   "id": "3dbdf214",
   "metadata": {},
   "outputs": [],
   "source": [
    "schema_keys = list(schema.keys())\n",
    "general_information = schema_keys[:5]"
   ]
  },
  {
   "cell_type": "code",
   "execution_count": 3,
   "id": "7a8d11b5",
   "metadata": {},
   "outputs": [],
   "source": [
    "from langchain_core.prompts import ChatPromptTemplate, MessagesPlaceholder\n",
    "\n",
    "# 프롬프트 정의\n",
    "prompt = ChatPromptTemplate.from_messages(\n",
    "    [\n",
    "        (\n",
    "            \"system\",\n",
    "            \"너는 전문 사업 컨설턴트이자 사업계획서 작성 전문가이다. 스타트업, 중소기업, 투자 유치용 사업계획서 작성에 특화되어 있으며, 사용자가 제공하는 정보와 요구사항을 바탕으로 체계적이고 설득력 있는 사업계획서를 작성하는 역할을 수행한다.\",\n",
    "        ),\n",
    "        MessagesPlaceholder(variable_name=\"chat_history\"),\n",
    "        (\n",
    "            \"user\",\n",
    "            '''스키마에서 이번에 채워야 할 필드는 **{general_information}**이다.\n",
    "[필드별 작성 가이드 & 예시]\n",
    "- 사업아이템명: \"OO기술이 적용된 OO기능의(혜택을 제공하는) OO제품·서비스 등\"\n",
    "- 산출물(협약기간 내 목표): \"모바일 어플리케이션(0개), 웹사이트(0개)\"\n",
    "- 직업(직장명 기재 불가): \"교수 / 연구원 / 사무직 / 일반인 / 대학생 등\"\n",
    "- 기업(예정)명\n",
    "\n",
    "[팀 구성 현황 리스트(대표자 본인 제외) - 각 행의 예시]\n",
    "- 직위: \"공동대표\", \"대리\" 등\n",
    "- 담당 업무: \"S/W 개발 총괄\", \"홍보 및 마케팅\" 등\n",
    "- 보유 역량: \"OO학 학사\", \"OO 관련 경력(00년 이상)\"\n",
    "- 구성 상태: \"완료\", \"예정\"\n",
    "\n",
    "[작성 규칙]\n",
    "1) 반드시 한국어로 작성.\n",
    "\n",
    "[검색된 참고자료]\n",
    "- 회사DB: None\n",
    "- 공고문DB: None\n",
    "\n",
    "\n",
    "위 정보를 참고하여 {request}'''\n",
    "        ), \n",
    "    ]\n",
    ")"
   ]
  },
  {
   "cell_type": "code",
   "execution_count": 4,
   "id": "27432023",
   "metadata": {},
   "outputs": [],
   "source": [
    "from langchain_openai import ChatOpenAI\n",
    "\n",
    "# llm = ChatOpenAI(\n",
    "#     # model=\"gpt-5-nano\"\n",
    "#     model=\"gpt-5\"\n",
    "# )\n",
    "\n",
    "llm = ChatOpenAI(\n",
    "    openai_api_key=\"EMPTY\",\n",
    "    openai_api_base=\"http://localhost:8000/v1\",\n",
    "    model=\"K-intelligence/Midm-2.0-Base-Instruct\",\n",
    ")"
   ]
  },
  {
   "cell_type": "code",
   "execution_count": 5,
   "id": "c7468d9c",
   "metadata": {},
   "outputs": [],
   "source": [
    "from typing import List\n",
    "from pydantic import BaseModel, Field\n",
    "\n",
    "class GeneralMember(BaseModel):\n",
    "    \"\"\"팀 구성 현황(대표자 본인 제외)의 한 행\"\"\"\n",
    "    position: str = Field(default=\"\", description=\"직위\")\n",
    "    task: str = Field(default=\"\", description=\"담당 업무\")\n",
    "    capability: str = Field(default=\"\", description=\"보유 역량\")\n",
    "    status: str = Field(default=\"\", description=\"구성 상태\")\n",
    "\n",
    "class GeneralInfo(BaseModel):\n",
    "    \"\"\"사업계획서 - 일반현황 섹션\"\"\"\n",
    "    item_name: str = Field(default=\"\", description=\"사업아이템명\")\n",
    "    deliverables: str = Field(default=\"\", description=\"산출물(협약기간 내 목표)\")\n",
    "    job: str = Field(default=\"\", description=\"직업(직장명 기재 불가)\")\n",
    "    company_name: str = Field(default=\"\", description=\"기업(예정)명\")\n",
    "    general_members: List[GeneralMember] = Field(\n",
    "        default_factory=list,\n",
    "        description=\"팀 구성 현황 리스트(대표자 본인 제외)\"\n",
    "    )"
   ]
  },
  {
   "cell_type": "code",
   "execution_count": 6,
   "id": "11eef3de",
   "metadata": {},
   "outputs": [],
   "source": [
    "structured_llm = llm.with_structured_output(GeneralInfo)"
   ]
  },
  {
   "cell_type": "code",
   "execution_count": 7,
   "id": "af718373",
   "metadata": {},
   "outputs": [],
   "source": [
    "def to_json(model: GeneralInfo) -> str:\n",
    "    return model.model_dump_json()\n",
    "\n",
    "chain = prompt | structured_llm | to_json"
   ]
  },
  {
   "cell_type": "code",
   "execution_count": 8,
   "id": "d1587172",
   "metadata": {},
   "outputs": [],
   "source": [
    "from langchain_community.chat_message_histories import ChatMessageHistory\n",
    "\n",
    "# 세션 기록을 저장할 딕셔너리\n",
    "store = {}\n",
    "\n",
    "# 세션 ID를 기반으로 세션 기록을 가져오는 함수\n",
    "def get_session_history(session_ids):\n",
    "    print(f\"[대화 세션ID]: {session_ids}\")\n",
    "    if session_ids not in store:  # 세션 ID가 store에 없는 경우\n",
    "        # 새로운 ChatMessageHistory 객체를 생성하여 store에 저장\n",
    "        store[session_ids] = ChatMessageHistory()\n",
    "    return store[session_ids]  # 해당 세션 ID에 대한 세션 기록 반환"
   ]
  },
  {
   "cell_type": "code",
   "execution_count": 9,
   "id": "b72171a5",
   "metadata": {},
   "outputs": [],
   "source": [
    "from langchain_core.runnables.history import RunnableWithMessageHistory\n",
    "\n",
    "chain_with_history = RunnableWithMessageHistory(\n",
    "    chain,\n",
    "    get_session_history,  # 세션 기록을 가져오는 함수\n",
    "    input_messages_key=\"request\",  # 사용자의 질문이 템플릿 변수에 들어갈 key\n",
    "    history_messages_key=\"chat_history\",  # 기록 메시지의 키\n",
    ")"
   ]
  },
  {
   "cell_type": "code",
   "execution_count": 10,
   "id": "8b4d40e5",
   "metadata": {},
   "outputs": [
    {
     "name": "stdout",
     "output_type": "stream",
     "text": [
      "[대화 세션ID]: bc01455b-f1f2-4f3e-8f9f-a628d8cad6ae\n"
     ]
    },
    {
     "data": {
      "text/plain": [
       "'{\"item_name\":\"AI 기반 한국어 비즈니스 문서 자동 분석 및 개선 서비스\",\"deliverables\":\"클라우드 기반 웹 플랫폼(1개) 및 모바일 앱(1개)\",\"job\":\"연구원 / 대학생\",\"company_name\":\"KoreanDocOptimizer Co., Ltd.\",\"general_members\":[{\"position\":\"공동창업자\",\"task\":\"서비스 기획 및 전략 수립\",\"capability\":\"경영학 학사, IT 스타트업 경험 3년\",\"status\":\"완료\"},{\"position\":\"개발팀장\",\"task\":\"백엔드 시스템 개발\",\"capability\":\"컴퓨터공학 석사, 소프트웨어 개발 경력 7년\",\"status\":\"예정\"}]}'"
      ]
     },
     "execution_count": 10,
     "metadata": {},
     "output_type": "execute_result"
    }
   ],
   "source": [
    "import uuid\n",
    "\n",
    "session_id = uuid.uuid4()\n",
    "\n",
    "chain_with_history.invoke(\n",
    "    # 질문 입력\n",
    "    {\"request\": f\"**{general_information}** 항목을 작성하라.\", \"general_information\": general_information},\n",
    "    # 세션 ID 기준으로 대화를 기록합니다.\n",
    "    config={\"configurable\": {\"session_id\": session_id}},\n",
    ")"
   ]
  },
  {
   "cell_type": "code",
   "execution_count": null,
   "id": "ef45e363",
   "metadata": {},
   "outputs": [],
   "source": []
  }
 ],
 "metadata": {
  "kernelspec": {
   "display_name": "kt_ai_agent_document_llm (3.12.11)",
   "language": "python",
   "name": "python3"
  },
  "language_info": {
   "codemirror_mode": {
    "name": "ipython",
    "version": 3
   },
   "file_extension": ".py",
   "mimetype": "text/x-python",
   "name": "python",
   "nbconvert_exporter": "python",
   "pygments_lexer": "ipython3",
   "version": "3.12.11"
  }
 },
 "nbformat": 4,
 "nbformat_minor": 5
}
