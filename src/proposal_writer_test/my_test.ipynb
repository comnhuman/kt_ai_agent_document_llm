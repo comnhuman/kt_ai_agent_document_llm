{
 "cells": [
  {
   "cell_type": "code",
   "execution_count": 1,
   "id": "cf842e44",
   "metadata": {},
   "outputs": [],
   "source": [
    "import json\n",
    "from pathlib import Path\n",
    "\n",
    "schema_path = Path(\"business_plan_schema.json\")\n",
    "with schema_path.open(encoding=\"utf-8\") as f:\n",
    "    schema = json.load(f)"
   ]
  },
  {
   "cell_type": "code",
   "execution_count": 2,
   "id": "db060f80",
   "metadata": {},
   "outputs": [],
   "source": [
    "schema_keys = list(schema.keys())\n",
    "\n",
    "general_information = schema_keys[:4]\n",
    "general_information_team_composition= schema_keys[5:6]"
   ]
  },
  {
   "cell_type": "code",
   "execution_count": 17,
   "id": "babc2e1b",
   "metadata": {},
   "outputs": [],
   "source": [
    "from langchain_core.prompts import ChatPromptTemplate, MessagesPlaceholder\n",
    "\n",
    "# 프롬프트 정의\n",
    "prompt = ChatPromptTemplate.from_messages(\n",
    "    [\n",
    "        (\n",
    "            \"system\",\n",
    "            \"너는 전문 사업 컨설턴트이자 사업계획서 작성 전문가이다. 스타트업, 중소기업, 투자 유치용 사업계획서 작성에 특화되어 있으며, 사용자가 제공하는 정보와 요구사항을 바탕으로 체계적이고 설득력 있는 사업계획서를 작성하는 역할을 수행한다.\",\n",
    "        ),\n",
    "        MessagesPlaceholder(variable_name=\"chat_history\"),\n",
    "        (\n",
    "            \"user\",\n",
    "            '''스키마에서 이번에 채워야 할 필드는 **{general_information}**이다.  \n",
    "관련해서 회사DB와 공고문DB에서 검색된 자료는 다음과 같다:  \n",
    "\n",
    "- 회사DB: 사업명:제로제로, 대표명:장정호\n",
    "- 공고문DB: None\n",
    "\n",
    "\n",
    "위 정보를 참고하여 {request}'''\n",
    "        ), \n",
    "    ]\n",
    ")"
   ]
  },
  {
   "cell_type": "code",
   "execution_count": 5,
   "id": "902795d9",
   "metadata": {},
   "outputs": [],
   "source": [
    "from langchain_openai import ChatOpenAI\n",
    "\n",
    "llm = ChatOpenAI(\n",
    "    # model=\"gpt-5-nano\"\n",
    "    model=\"gpt-5\"\n",
    ")"
   ]
  },
  {
   "cell_type": "code",
   "execution_count": null,
   "id": "a2e322b8",
   "metadata": {},
   "outputs": [],
   "source": [
    "from typing import Optional\n",
    "\n",
    "from pydantic import BaseModel, Field\n",
    "\n",
    "\n",
    "# Pydantic\n",
    "class Joke(BaseModel):\n",
    "    \"\"\"Joke to tell user.\"\"\"\n",
    "\n",
    "    setup: str = Field(description=\"The setup of the joke\")\n",
    "    punchline: str = Field(description=\"The punchline to the joke\")\n",
    "    rating: Optional[int] = Field(\n",
    "        default=None, description=\"How funny the joke is, from 1 to 10\"\n",
    "    )\n",
    "\n",
    "\n",
    "structured_llm = llm.with_structured_output(Joke)\n",
    "\n",
    "structured_llm.invoke(\"Tell me a joke about cats\")"
   ]
  },
  {
   "cell_type": "code",
   "execution_count": 5,
   "id": "9b63f45a",
   "metadata": {},
   "outputs": [],
   "source": [
    "from langchain_core.output_parsers import StrOutputParser\n",
    "\n",
    "# 일반 Chain 생성\n",
    "chain = prompt | llm | StrOutputParser()"
   ]
  },
  {
   "cell_type": "code",
   "execution_count": 6,
   "id": "b6ad79c9",
   "metadata": {},
   "outputs": [],
   "source": [
    "from langchain_community.chat_message_histories import ChatMessageHistory\n",
    "\n",
    "# 세션 기록을 저장할 딕셔너리\n",
    "store = {}\n",
    "\n",
    "# 세션 ID를 기반으로 세션 기록을 가져오는 함수\n",
    "def get_session_history(session_ids):\n",
    "    print(f\"[대화 세션ID]: {session_ids}\")\n",
    "    if session_ids not in store:  # 세션 ID가 store에 없는 경우\n",
    "        # 새로운 ChatMessageHistory 객체를 생성하여 store에 저장\n",
    "        store[session_ids] = ChatMessageHistory()\n",
    "    return store[session_ids]  # 해당 세션 ID에 대한 세션 기록 반환"
   ]
  },
  {
   "cell_type": "code",
   "execution_count": 7,
   "id": "b0bde211",
   "metadata": {},
   "outputs": [],
   "source": [
    "from langchain_core.runnables.history import RunnableWithMessageHistory\n",
    "\n",
    "chain_with_history = RunnableWithMessageHistory(\n",
    "    chain,\n",
    "    get_session_history,  # 세션 기록을 가져오는 함수\n",
    "    input_messages_key=\"request\",  # 사용자의 질문이 템플릿 변수에 들어갈 key\n",
    "    history_messages_key=\"chat_history\",  # 기록 메시지의 키\n",
    ")"
   ]
  },
  {
   "cell_type": "code",
   "execution_count": 8,
   "id": "5e3a0ffe",
   "metadata": {},
   "outputs": [
    {
     "name": "stdout",
     "output_type": "stream",
     "text": [
      "[대화 세션ID]: 8668fc18-70a3-4cf3-a10f-f3ff9450f547\n"
     ]
    },
    {
     "data": {
      "text/plain": [
       "'다음과 같이 채워드립니다.\\n\\n- item_name: 제로제로\\n- deliverables:\\n  - 사업개요 및 목표 정의\\n  - 시장 및 경쟁 분석\\n  - 비즈니스 모델 및 수익화 전략\\n  - 마케팅/영업 전략 및 초기 고객 확보 계획\\n  - 운영계획 및 조직구조\\n  - 재무예측(손익계산서/현금흐름/자본요구 분석)\\n  - 위험분석 및 대응전략\\n  - 실행 로드맵 및 KPI\\n  - 투자제안서 요약 및 피치덱 초안\\n- job: 대표이사(CEO)\\n- company_name: 제로제로'"
      ]
     },
     "execution_count": 8,
     "metadata": {},
     "output_type": "execute_result"
    }
   ],
   "source": [
    "import uuid\n",
    "\n",
    "session_id = uuid.uuid4()\n",
    "\n",
    "chain_with_history.invoke(\n",
    "    # 질문 입력\n",
    "    {\"request\": f\"**{general_information}** 항목을 작성하라.\", \"general_information\": general_information},\n",
    "    # 세션 ID 기준으로 대화를 기록합니다.\n",
    "    config={\"configurable\": {\"session_id\": session_id}},\n",
    ")"
   ]
  },
  {
   "cell_type": "code",
   "execution_count": 19,
   "id": "110e7883",
   "metadata": {},
   "outputs": [
    {
     "name": "stdout",
     "output_type": "stream",
     "text": [
      "[대화 세션ID]: 2b400381-0c9c-4c41-bbbd-aca830335163\n"
     ]
    },
    {
     "data": {
      "text/plain": [
       "'- name: 제로제로\\n- category: 투자유치용 사업계획서 대상 기업(스타트업)\\n\\n비고: 공고문DB가 None이므로 카테고리 정보를 추정적으로 기입했습니다. 산업군 등 더 구체적인 카테고리가 필요하면 알려주시면 업데이트하겠습니다.'"
      ]
     },
     "execution_count": 19,
     "metadata": {},
     "output_type": "execute_result"
    }
   ],
   "source": [
    "chain_with_history.invoke(\n",
    "    # 질문 입력\n",
    "    {\"test\": \"\",\"general_information\": [\"name\", \"category\"]},\n",
    "    # 세션 ID 기준으로 대화를 기록합니다.\n",
    "    config={\"configurable\": {\"session_id\": session_id}},\n",
    ")"
   ]
  },
  {
   "cell_type": "code",
   "execution_count": 21,
   "id": "548e191c",
   "metadata": {},
   "outputs": [
    {
     "data": {
      "text/plain": [
       "'[1, 2, 3]'"
      ]
     },
     "execution_count": 21,
     "metadata": {},
     "output_type": "execute_result"
    }
   ],
   "source": [
    "list_a = [1,2,3]\n",
    "str(list_a)"
   ]
  },
  {
   "cell_type": "code",
   "execution_count": 13,
   "id": "4def9dd8",
   "metadata": {},
   "outputs": [],
   "source": [
    "# from langchain_community.llms import VLLMOpenAI\n",
    "\n",
    "# llm = VLLMOpenAI(\n",
    "#     openai_api_key=\"EMPTY\",\n",
    "#     openai_api_base=\"http://localhost:8000/v1\",\n",
    "#     model_name=\"K-intelligence/Midm-2.0-Base-Instruct\",\n",
    "#     model_kwargs={\"stop\": [\".\"]},\n",
    "# )\n",
    "\n",
    "from langchain_openai import ChatOpenAI\n",
    "\n",
    "llm = ChatOpenAI(\n",
    "    openai_api_key=\"EMPTY\",\n",
    "    openai_api_base=\"http://localhost:8000/v1\",\n",
    "    model=\"K-intelligence/Midm-2.0-Base-Instruct\",\n",
    ")"
   ]
  },
  {
   "cell_type": "code",
   "execution_count": 10,
   "id": "17be0b72",
   "metadata": {},
   "outputs": [],
   "source": [
    "from typing import List\n",
    "from pydantic import BaseModel, Field\n",
    "\n",
    "class GeneralMember(BaseModel):\n",
    "    \"\"\"팀 구성 현황(대표자 본인 제외)의 한 행\"\"\"\n",
    "    position: str = Field(default=\"\", description=\"직위 (예: 공동대표, 대리 등)\")\n",
    "    task: str = Field(default=\"\", description=\"담당 업무 (예: S/W 개발 총괄, 홍보 및 마케팅 등)\")\n",
    "    capability: str = Field(default=\"\", description=\"보유 역량 (예: OO학 학사, OO 관련 경력(00년 이상))\")\n",
    "    status: str = Field(default=\"\", description=\"구성 상태 (예: 완료, 예정 등)\")\n",
    "\n",
    "class GeneralInfo(BaseModel):\n",
    "    \"\"\"사업계획서 - 일반현황 섹션\"\"\"\n",
    "    item_name: str = Field(default=\"\", description=\"사업아이템명 (예: OO기술이 적용된 OO기능의(혜택을 제공하는) OO제품·서비스 등)\")\n",
    "    deliverables: str = Field(default=\"\", description=\"산출물(협약기간 내 목표) (예: 모바일 어플리케이션(0개), 웹사이트(0개))\")\n",
    "    job: str = Field(default=\"\", description=\"직업(직장명 기재 불가) (예: 교수 / 연구원 / 사무직 / 일반인 / 대학생 등)\")\n",
    "    company_name: str = Field(default=\"\", description=\"기업(예정)명 기업명이 없다면 '한국IT'라고 작성\")\n",
    "    general_members: List[GeneralMember] = Field(\n",
    "        default_factory=list,\n",
    "        description=\"팀 구성 현황 리스트(대표자 본인 제외)\"\n",
    "    )"
   ]
  },
  {
   "cell_type": "code",
   "execution_count": 14,
   "id": "432f85c8",
   "metadata": {},
   "outputs": [],
   "source": [
    "from typing import List\n",
    "from pydantic import BaseModel, Field\n",
    "\n",
    "class GeneralMember(BaseModel):\n",
    "    \"\"\"팀 구성 현황(대표자 본인 제외)의 한 행\"\"\"\n",
    "    position: str = Field(default=\"\", description=\"직위\")\n",
    "    task: str = Field(default=\"\", description=\"담당 업무\")\n",
    "    capability: str = Field(default=\"\", description=\"보유 역량\")\n",
    "    status: str = Field(default=\"\", description=\"구성 상태\")\n",
    "\n",
    "class GeneralInfo(BaseModel):\n",
    "    \"\"\"사업계획서 - 일반현황 섹션\"\"\"\n",
    "    item_name: str = Field(default=\"\", description=\"사업아이템명\")\n",
    "    deliverables: str = Field(default=\"\", description=\"산출물(협약기간 내 목표)\")\n",
    "    job: str = Field(default=\"\", description=\"직업(직장명 기재 불가)\")\n",
    "    company_name: str = Field(default=\"\", description=\"기업(예정)명\")\n",
    "    general_members: List[GeneralMember] = Field(\n",
    "        default_factory=list,\n",
    "        description=\"팀 구성 현황 리스트(대표자 본인 제외)\"\n",
    "    )"
   ]
  },
  {
   "cell_type": "code",
   "execution_count": 15,
   "id": "4a1a52e3",
   "metadata": {},
   "outputs": [],
   "source": [
    "structured_llm = llm.with_structured_output(GeneralInfo)"
   ]
  },
  {
   "cell_type": "code",
   "execution_count": 16,
   "id": "1ee89b5b",
   "metadata": {},
   "outputs": [
    {
     "data": {
      "text/plain": [
       "GeneralInfo(item_name='AI 기반 맞춤형 건강 관리 플랫폼', deliverables='모바일 어플리케이션 1개, 웹 대시보드 1개', job='연구원', company_name='한국IT', general_members=[GeneralMember(position='공동대표', task='비즈니스 전략 수립 및 운영 관리', capability='경영학 석사, 스타트업 경영 5년 이상', status='완료'), GeneralMember(position='소프트웨어 개발자', task='플랫폼 개발 및 기술 지원', capability='컴퓨터공학 학사, 백엔드 개발 3년 이상', status='예정'), GeneralMember(position='데이터 분석가', task='데이터 분석 및 인사이트 제공', capability='통계학 석사, 데이터 분석 2년 이상', status='예정'), GeneralMember(position='마케팅 전문가', task='홍보 및 시장 진입 전략', capability='광고학 학사, 디지털 마케팅 4년 이상', status='예정')])"
      ]
     },
     "execution_count": 16,
     "metadata": {},
     "output_type": "execute_result"
    }
   ],
   "source": [
    "structured_llm.invoke(\n",
    "'''\n",
    "RAG이용 사업 계획서의 초안을 만들어라\n",
    "\n",
    "사업아이템명 (예: OO기술이 적용된 OO기능의(혜택을 제공하는) OO제품·서비스 등)\n",
    "산출물(협약기간 내 목표) (예: 모바일 어플리케이션(0개), 웹사이트(0개))\n",
    "직업(직장명 기재 불가) (예: 교수 / 연구원 / 사무직 / 일반인 / 대학생 등)\n",
    "기업(예정)명 기업명이 없다면 '한국IT'라고 작성\n",
    "\n",
    "팀 구성 현황 리스트(대표자 본인 제외)\n",
    "직위 (예: 공동대표, 대리 등)\n",
    "담당 업무 (예: S/W 개발 총괄, 홍보 및 마케팅 등)\n",
    "보유 역량 (예: OO학 학사, OO 관련 경력(00년 이상))\n",
    "구성 상태 (예: 완료, 예정 등)\n",
    "'''\n",
    ")"
   ]
  },
  {
   "cell_type": "markdown",
   "id": "dc464869",
   "metadata": {},
   "source": [
    "test_llm = "
   ]
  },
  {
   "cell_type": "code",
   "execution_count": 18,
   "id": "7546ed0b",
   "metadata": {},
   "outputs": [
    {
     "name": "stdout",
     "output_type": "stream",
     "text": [
      " known as the Eternal City and for good reason\n"
     ]
    }
   ],
   "source": [
    "from langchain_community.llms import VLLMOpenAI\n",
    "\n",
    "llm = VLLMOpenAI(\n",
    "    openai_api_key=\"EMPTY\",\n",
    "    openai_api_base=\"http://localhost:8000/v1\",\n",
    "    model_name=\"K-intelligence/Midm-2.0-Base-Instruct\",\n",
    "    model_kwargs={\"stop\": [\".\"]},\n",
    ")\n",
    "print(llm.invoke(\"Rome is\"))"
   ]
  },
  {
   "cell_type": "code",
   "execution_count": null,
   "id": "62d33b86",
   "metadata": {},
   "outputs": [],
   "source": []
  }
 ],
 "metadata": {
  "kernelspec": {
   "display_name": "kt_ai_agent_document_llm (3.12.11)",
   "language": "python",
   "name": "python3"
  },
  "language_info": {
   "codemirror_mode": {
    "name": "ipython",
    "version": 3
   },
   "file_extension": ".py",
   "mimetype": "text/x-python",
   "name": "python",
   "nbconvert_exporter": "python",
   "pygments_lexer": "ipython3",
   "version": "3.12.11"
  }
 },
 "nbformat": 4,
 "nbformat_minor": 5
}
