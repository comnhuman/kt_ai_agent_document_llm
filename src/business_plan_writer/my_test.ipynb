{
 "cells": [
  {
   "cell_type": "code",
   "execution_count": 2,
   "id": "a74cf192",
   "metadata": {},
   "outputs": [
    {
     "name": "stdout",
     "output_type": "stream",
     "text": [
      "{asd}\n"
     ]
    }
   ],
   "source": [
    "mystr = f\"{\"{asd}\"}\"\n",
    "\n",
    "print(mystr)"
   ]
  },
  {
   "cell_type": "code",
   "execution_count": null,
   "id": "c83b5d0c",
   "metadata": {},
   "outputs": [],
   "source": [
    "import json\n",
    "from pathlib import Path\n",
    "\n",
    "# 파일 경로 객체 생성\n",
    "path = Path(\"data.json\")\n",
    "\n",
    "# JSON 파일 읽어서 파싱\n",
    "with path.open(encoding=\"utf-8\") as f:\n",
    "    data = json.load(f)\n",
    "\n",
    "print(data)          # [{'id': 1, 'name': 'Alice'}, {'id': 2, 'name': 'Bob'}, ...]\n",
    "print(type(data))    # <class 'list'>\n",
    "print(type(data[0])) # <class 'dict'>\n"
   ]
  },
  {
   "cell_type": "code",
   "execution_count": 3,
   "id": "0982d862",
   "metadata": {},
   "outputs": [],
   "source": [
    "from pydantic import BaseModel\n",
    "\n",
    "class User(BaseModel):\n",
    "    id: int\n",
    "    name: str\n",
    "    email: str"
   ]
  },
  {
   "cell_type": "code",
   "execution_count": 4,
   "id": "1723c521",
   "metadata": {},
   "outputs": [],
   "source": [
    "user = User(id=1, name=\"Alice\", email=\"alice@example.com\")\n"
   ]
  },
  {
   "cell_type": "code",
   "execution_count": 5,
   "id": "2ef0ad8d",
   "metadata": {},
   "outputs": [
    {
     "name": "stderr",
     "output_type": "stream",
     "text": [
      "/var/folders/fg/3bv59j697x9244v9qlm146_40000gn/T/ipykernel_18433/2176062844.py:2: PydanticDeprecatedSince20: The `dict` method is deprecated; use `model_dump` instead. Deprecated in Pydantic V2.0 to be removed in V3.0. See Pydantic V2 Migration Guide at https://errors.pydantic.dev/2.11/migration/\n",
      "  user_dict = user.dict()\n"
     ]
    }
   ],
   "source": [
    "# (구 Pydantic v1 스타일, v2에서도 호환됨)\n",
    "user_dict = user.dict()\n",
    "\n",
    "# (Pydantic v2 권장 방식)\n",
    "user_dict = user.model_dump()\n"
   ]
  },
  {
   "cell_type": "code",
   "execution_count": 6,
   "id": "1a4cbf86",
   "metadata": {},
   "outputs": [
    {
     "name": "stdout",
     "output_type": "stream",
     "text": [
      "{'id': 1, 'name': 'Alice', 'email': 'alice@example.com'}\n"
     ]
    }
   ],
   "source": [
    "class User:\n",
    "    def __init__(self, id, name, email):\n",
    "        self.id = id\n",
    "        self.name = name\n",
    "        self.email = email\n",
    "\n",
    "user = User(1, \"Alice\", \"alice@example.com\")\n",
    "\n",
    "print(user.__dict__)"
   ]
  },
  {
   "cell_type": "code",
   "execution_count": 7,
   "id": "af790921",
   "metadata": {},
   "outputs": [
    {
     "data": {
      "text/plain": [
       "str"
      ]
     },
     "execution_count": 7,
     "metadata": {},
     "output_type": "execute_result"
    }
   ],
   "source": [
    "mystr = \"Asdasd\"\n",
    "\"asdasd\"\n",
    "type(mystr)"
   ]
  },
  {
   "cell_type": "code",
   "execution_count": 8,
   "id": "c392c4bd",
   "metadata": {},
   "outputs": [
    {
     "name": "stdout",
     "output_type": "stream",
     "text": [
      "Asdasd\n"
     ]
    }
   ],
   "source": [
    "print(mystr)"
   ]
  },
  {
   "cell_type": "code",
   "execution_count": null,
   "id": "9bce9245",
   "metadata": {},
   "outputs": [],
   "source": []
  }
 ],
 "metadata": {
  "kernelspec": {
   "display_name": "kt_ai_agent_document_llm (3.12.11)",
   "language": "python",
   "name": "python3"
  },
  "language_info": {
   "codemirror_mode": {
    "name": "ipython",
    "version": 3
   },
   "file_extension": ".py",
   "mimetype": "text/x-python",
   "name": "python",
   "nbconvert_exporter": "python",
   "pygments_lexer": "ipython3",
   "version": "3.12.11"
  }
 },
 "nbformat": 4,
 "nbformat_minor": 5
}
